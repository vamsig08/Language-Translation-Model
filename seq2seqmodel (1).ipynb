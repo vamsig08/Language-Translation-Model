{
 "cells": [
  {
   "cell_type": "code",
   "execution_count": 22,
   "id": "6db0f45f-035b-4342-b8fc-449719221daa",
   "metadata": {
    "tags": []
   },
   "outputs": [],
   "source": [
    "import string\n",
    "import numpy as np\n",
    "import re\n",
    "from numpy import array, argmax, random, take\n",
    "import pandas as pd\n",
    "from keras.models import Sequential\n",
    "from keras.layers import Dense, LSTM, Embedding, RepeatVector\n",
    "from keras.preprocessing.text import Tokenizer\n",
    "from keras.callbacks import ModelCheckpoint\n",
    "from keras.preprocessing.sequence import pad_sequences\n",
    "from keras.models import load_model\n",
    "from keras import optimizers\n",
    "from tensorflow.keras.optimizers.legacy import RMSprop\n",
    "import matplotlib.pyplot as plt\n",
    "%matplotlib inline\n",
    "pd.set_option('display.max_colwidth', 200)"
   ]
  },
  {
   "cell_type": "code",
   "execution_count": 23,
   "id": "15a93e2b-7e8f-460e-8149-dc0b934f32fb",
   "metadata": {
    "tags": []
   },
   "outputs": [
    {
     "data": {
      "text/plain": [
       "'Go.\\tVai.\\nGo.\\tVá.\\nHi.\\tOi.\\nRun!\\tCorre!\\nRun!\\tCorra!\\nRun!\\tCorram!\\nRun.\\tCorre!\\nRun.\\tCorra!\\nRun.\\tCorram!\\nW'"
      ]
     },
     "execution_count": 23,
     "metadata": {},
     "output_type": "execute_result"
    }
   ],
   "source": [
    "data_path = 'por-eng/por_new.txt'\n",
    "with open(data_path, 'r', encoding = 'utf-8') as f:\n",
    "    lines = f.read()\n",
    "    \n",
    "lines[0:100]"
   ]
  },
  {
   "cell_type": "code",
   "execution_count": 24,
   "id": "25c505ac-15e8-4a15-ac9b-3aae24cf40f2",
   "metadata": {},
   "outputs": [],
   "source": [
    "def to_lines(text):\n",
    "    sents = text.strip().split('\\n')\n",
    "    sents = [i.split('\\t') for i in sents]\n",
    "    return sents"
   ]
  },
  {
   "cell_type": "code",
   "execution_count": 25,
   "id": "82b0e081-74f3-4f13-83c4-710c38813b11",
   "metadata": {
    "tags": []
   },
   "outputs": [
    {
     "data": {
      "text/plain": [
       "[['Go.', 'Vai.'],\n",
       " ['Go.', 'Vá.'],\n",
       " ['Hi.', 'Oi.'],\n",
       " ['Run!', 'Corre!'],\n",
       " ['Run!', 'Corra!']]"
      ]
     },
     "execution_count": 25,
     "metadata": {},
     "output_type": "execute_result"
    }
   ],
   "source": [
    "por_eng = to_lines(lines)\n",
    "por_eng[:5]"
   ]
  },
  {
   "cell_type": "code",
   "execution_count": 26,
   "id": "f7165271-9a40-4c6b-9207-d79956918e3b",
   "metadata": {
    "tags": []
   },
   "outputs": [
    {
     "data": {
      "text/plain": [
       "array([['Go.', 'Vai.'],\n",
       "       ['Go.', 'Vá.'],\n",
       "       ['Hi.', 'Oi.'],\n",
       "       ['Run!', 'Corre!'],\n",
       "       ['Run!', 'Corra!']], dtype='<U275')"
      ]
     },
     "execution_count": 26,
     "metadata": {},
     "output_type": "execute_result"
    }
   ],
   "source": [
    "por_eng = array(por_eng)\n",
    "por_eng[:5]"
   ]
  },
  {
   "cell_type": "code",
   "execution_count": 27,
   "id": "63b5135a-5257-4066-9116-b6451ca8270b",
   "metadata": {
    "tags": []
   },
   "outputs": [
    {
     "data": {
      "text/plain": [
       "(190639, 2)"
      ]
     },
     "execution_count": 27,
     "metadata": {},
     "output_type": "execute_result"
    }
   ],
   "source": [
    "por_eng.shape"
   ]
  },
  {
   "cell_type": "code",
   "execution_count": 28,
   "id": "694e8eea-da43-4084-bf1f-f72b02948d31",
   "metadata": {
    "tags": []
   },
   "outputs": [
    {
     "data": {
      "text/plain": [
       "array([['Go', 'Vai'],\n",
       "       ['Go', 'Vá'],\n",
       "       ['Hi', 'Oi'],\n",
       "       ['Run', 'Corre'],\n",
       "       ['Run', 'Corra']], dtype='<U275')"
      ]
     },
     "execution_count": 28,
     "metadata": {},
     "output_type": "execute_result"
    }
   ],
   "source": [
    "por_eng[:,0] = [s.translate(str.maketrans('', '', string.punctuation)) for s in por_eng[:,0]]\n",
    "por_eng[:,1] = [s.translate(str.maketrans('', '', string.punctuation)) for s in por_eng[:,1]]\n",
    "\n",
    "por_eng[:5]"
   ]
  },
  {
   "cell_type": "code",
   "execution_count": 29,
   "id": "1144e99d-f075-443d-9285-c356831b0be4",
   "metadata": {
    "tags": []
   },
   "outputs": [
    {
     "data": {
      "text/plain": [
       "array([['go', 'vai'],\n",
       "       ['go', 'vá'],\n",
       "       ['hi', 'oi'],\n",
       "       ...,\n",
       "       ['a child who is a native speaker usually knows many things about his or her language that a nonnative speaker who has been studying for years still does not know and perhaps will never know',\n",
       "        'uma criança que é falante nativa geralmente sabe muitas coisas sobre sua língua que um falante nãonativo que tem estudado há anos ainda não sabe e talvez nunca saberá'],\n",
       "       ['tales of gentleness of honor of justice of courage of fortitude in suffering of intrepidity in danger of dauntless resolution of iron will inspire children to an emulation of those virtues',\n",
       "        'contos de docilidade de honra de justiça de coragem de fortaleza perante o sofrimento de intrepidez perante o perigo de resolução destemida de vontade de ferro inspiram as crianças a uma emulação dessas virtudes'],\n",
       "       ['using high heat settings while ironing synthetic fabrics will melt the synthetic fibers and cause visible permanent damage which often looks like a shiny area where the toohot iron had the longest contact with the fabric',\n",
       "        'a utilização de opções de alto calor quando se passa a ferro malhas sintéticas derreterá as fibras sintéticas e causará danos visíveis permanentes que muitas vezes têm a aparência de uma área reluzente onde o ferro demasiado quente esteve mais tempo em contacto com a malha']],\n",
       "      dtype='<U275')"
      ]
     },
     "execution_count": 29,
     "metadata": {},
     "output_type": "execute_result"
    }
   ],
   "source": [
    "for i in range(len(por_eng)):\n",
    "    por_eng[i,0] = por_eng[i,0].lower()\n",
    "    por_eng[i,1] = por_eng[i,1].lower()\n",
    "por_eng"
   ]
  },
  {
   "cell_type": "code",
   "execution_count": 30,
   "id": "fdd308dd-a0f2-4731-8409-4a0f5509e935",
   "metadata": {
    "tags": []
   },
   "outputs": [
    {
     "name": "stdout",
     "output_type": "stream",
     "text": [
      "English Vocabulary Size: 13550\n"
     ]
    }
   ],
   "source": [
    "# function to build a tokenizer\n",
    "def tokenization(lines):\n",
    "    tokenizer = Tokenizer()\n",
    "    tokenizer.fit_on_texts(lines)\n",
    "    return tokenizer\n",
    "\n",
    "# prepare english tokenizer\n",
    "eng_tokenizer = tokenization(por_eng[:,0])\n",
    "eng_vocab_size = len(eng_tokenizer.word_index) + 1\n",
    "\n",
    "eng_length = 8\n",
    "print('English Vocabulary Size: %d' % eng_vocab_size)"
   ]
  },
  {
   "cell_type": "code",
   "execution_count": 31,
   "id": "498a3a05-100c-4265-8fe2-e50ff200abcb",
   "metadata": {
    "tags": []
   },
   "outputs": [
    {
     "name": "stdout",
     "output_type": "stream",
     "text": [
      "Portuguese Vocabulary Size: 23770\n"
     ]
    }
   ],
   "source": [
    "# prepare portuguese tokenizer\n",
    "por_tokenizer = tokenization(por_eng[:, 1])\n",
    "por_vocab_size = len(por_tokenizer.word_index) + 1\n",
    "\n",
    "por_length = 8\n",
    "print('Portuguese Vocabulary Size: %d' % por_vocab_size)"
   ]
  },
  {
   "cell_type": "code",
   "execution_count": 32,
   "id": "0a95bc2a-eb3a-439c-9bdf-e1f71385795d",
   "metadata": {
    "tags": []
   },
   "outputs": [],
   "source": [
    "def encode_sequences(tokenizer, length, lines):\n",
    "    #integer encode sequences\n",
    "    seq = tokenizer.texts_to_sequences(lines)\n",
    "    #pad sequences with 0 values\n",
    "    seq = pad_sequences(seq, maxlen=length, padding='post')\n",
    "    return seq"
   ]
  },
  {
   "cell_type": "code",
   "execution_count": 33,
   "id": "47a59a70-7fed-4cd3-a246-c4fdaf98a0b1",
   "metadata": {
    "tags": []
   },
   "outputs": [],
   "source": [
    "from sklearn.model_selection import train_test_split\n",
    "\n",
    "# split data into train and test set\n",
    "train, test = train_test_split(por_eng, test_size = 0.2, random_state=12)"
   ]
  },
  {
   "cell_type": "code",
   "execution_count": 34,
   "id": "392d476c-aba5-42d3-87b8-213f84114900",
   "metadata": {
    "tags": []
   },
   "outputs": [],
   "source": [
    "# prepare training data\n",
    "trainX = encode_sequences(por_tokenizer, por_length, train[:, 1])\n",
    "trainY = encode_sequences(eng_tokenizer, eng_length, train[:, 0])\n",
    "\n",
    "# prepare validation\n",
    "testX = encode_sequences(por_tokenizer, por_length, test[:, 1])\n",
    "testY = encode_sequences(eng_tokenizer, eng_length, test[:, 0])\n"
   ]
  },
  {
   "cell_type": "code",
   "execution_count": 35,
   "id": "cf893a0e-5bb5-4a41-b100-15b01fcea2f4",
   "metadata": {
    "tags": []
   },
   "outputs": [],
   "source": [
    "# built NMT model\n",
    "def define_model(in_vocab, out_vocab, in_timesteps, out_timesteps, units):\n",
    "    model = Sequential()\n",
    "    model.add(Embedding(in_vocab, units, input_length=in_timesteps, mask_zero = True))\n",
    "    model.add(LSTM(units))\n",
    "    model.add(RepeatVector(out_timesteps))\n",
    "    model.add(LSTM(units,return_sequences=True))\n",
    "    model.add(Dense(out_vocab, activation='softmax'))\n",
    "    return model"
   ]
  },
  {
   "cell_type": "code",
   "execution_count": 41,
   "id": "bd8931fe-25ef-4299-9c25-b45768b9af5f",
   "metadata": {
    "tags": []
   },
   "outputs": [],
   "source": [
    "#RMSprop optimizer\n",
    "\n",
    "# model compilation\n",
    "\n",
    "model = define_model(por_vocab_size, eng_vocab_size, por_length, eng_length, 64)\n",
    "# rms = optimizers.RMSprop(lr=0.001)\n",
    "model.compile(optimizer=RMSprop(learning_rate=0.001), loss='sparse_categorical_crossentropy', metrics=['accuracy'])"
   ]
  },
  {
   "cell_type": "code",
   "execution_count": 43,
   "id": "a80da7fa-e300-4f46-9a74-a3d33e8fa268",
   "metadata": {
    "tags": []
   },
   "outputs": [
    {
     "name": "stdout",
     "output_type": "stream",
     "text": [
      "Epoch 1/10\n",
      "1907/1907 [==============================] - 74s 38ms/step - loss: 4.4630 - accuracy: 0.3318 - val_loss: 4.1066 - val_accuracy: 0.3608\n",
      "Epoch 2/10\n",
      "1907/1907 [==============================] - 72s 38ms/step - loss: 3.8559 - accuracy: 0.3912 - val_loss: 3.6908 - val_accuracy: 0.4124\n",
      "Epoch 3/10\n",
      "1907/1907 [==============================] - 73s 38ms/step - loss: 3.5423 - accuracy: 0.4289 - val_loss: 3.4715 - val_accuracy: 0.4404\n",
      "Epoch 4/10\n",
      "1907/1907 [==============================] - 72s 38ms/step - loss: 3.3165 - accuracy: 0.4589 - val_loss: 3.2810 - val_accuracy: 0.4646\n",
      "Epoch 5/10\n",
      "1907/1907 [==============================] - 71s 37ms/step - loss: 3.1466 - accuracy: 0.4800 - val_loss: 3.1458 - val_accuracy: 0.4822\n",
      "Epoch 6/10\n",
      "1907/1907 [==============================] - 71s 37ms/step - loss: 3.0288 - accuracy: 0.4961 - val_loss: 3.0707 - val_accuracy: 0.4911\n",
      "Epoch 7/10\n",
      "1907/1907 [==============================] - 75s 39ms/step - loss: 2.9263 - accuracy: 0.5098 - val_loss: 2.9935 - val_accuracy: 0.5016\n",
      "Epoch 8/10\n",
      "1907/1907 [==============================] - 75s 40ms/step - loss: 2.8473 - accuracy: 0.5202 - val_loss: 2.9235 - val_accuracy: 0.5108\n",
      "Epoch 9/10\n",
      "1907/1907 [==============================] - 76s 40ms/step - loss: 2.7860 - accuracy: 0.5299 - val_loss: 2.8805 - val_accuracy: 0.5190\n",
      "Epoch 10/10\n",
      "1907/1907 [==============================] - 75s 39ms/step - loss: 2.7379 - accuracy: 0.5384 - val_loss: 2.8629 - val_accuracy: 0.5233\n"
     ]
    }
   ],
   "source": [
    "history = model.fit(trainX, trainY.reshape(trainY.shape[0], trainY.shape[1],1),\n",
    "                    epochs=10,batch_size = 64, validation_split = 0.2)\n"
   ]
  },
  {
   "cell_type": "code",
   "execution_count": 44,
   "id": "e805d7cc-ff94-4782-8092-836550bccad0",
   "metadata": {
    "tags": []
   },
   "outputs": [
    {
     "name": "stdout",
     "output_type": "stream",
     "text": [
      "Training Accuracy: 0.538392961025238\n",
      "Validation Accuracy: 0.5233132839202881\n"
     ]
    }
   ],
   "source": [
    "print('Training Accuracy:', history.history['accuracy'][-1])\n",
    "print('Validation Accuracy:', history.history['val_accuracy'][-1])\n"
   ]
  },
  {
   "cell_type": "code",
   "execution_count": 45,
   "id": "4b1d6b90-c4a3-4c7a-ab6f-6fb538001acb",
   "metadata": {
    "tags": []
   },
   "outputs": [
    {
     "data": {
      "image/png": "[encoded data removed]",
      "text/plain": [
       "<Figure size 640x480 with 1 Axes>"
      ]
     },
     "metadata": {},
     "output_type": "display_data"
    }
   ],
   "source": [
    "plt.plot(history.history['loss'], label='Training Loss')\n",
    "plt.plot(history.history['val_loss'], label='Validation Loss')\n",
    "plt.xlabel('Epochs')\n",
    "plt.ylabel('Loss')\n",
    "plt.title('Training and Validation Loss Over Epochs')\n",
    "plt.legend()\n",
    "plt.show()"
   ]
  },
  {
   "cell_type": "code",
   "execution_count": null,
   "id": "7d6cf9ef-9433-4e85-9c51-92a0e7d1901f",
   "metadata": {
    "tags": []
   },
   "outputs": [
    {
     "name": "stdout",
     "output_type": "stream",
     "text": [
      "1192/1192 [==============================] - 31s 25ms/step\n"
     ]
    }
   ],
   "source": [
    "# predicts = model.predict(testX.reshape((testX.shape[0],testX.shape[1])))"
   ]
  },
  {
   "cell_type": "code",
   "execution_count": 5,
   "id": "8e4b48af-f551-4817-9d10-541839ad792a",
   "metadata": {
    "tags": []
   },
   "outputs": [
    {
     "ename": "NameError",
     "evalue": "name 'predicts' is not defined",
     "output_type": "error",
     "traceback": [
      "\u001b[0;31m---------------------------------------------------------------------------\u001b[0m",
      "\u001b[0;31mNameError\u001b[0m                                 Traceback (most recent call last)",
      "Cell \u001b[0;32mIn[5], line 1\u001b[0m\n\u001b[0;32m----> 1\u001b[0m predicted_classes \u001b[38;5;241m=\u001b[39m np\u001b[38;5;241m.\u001b[39margmax(predicts, axis \u001b[38;5;241m=\u001b[39m \u001b[38;5;241m1\u001b[39m)\n\u001b[1;32m      2\u001b[0m predicted_classes\n",
      "\u001b[0;31mNameError\u001b[0m: name 'predicts' is not defined"
     ]
    }
   ],
   "source": [
    "# predicted_classes = np.argmax(predicts, axis = 1)\n",
    "# predicted_classes"
   ]
  },
  {
   "cell_type": "code",
   "execution_count": null,
   "id": "7c978a92-c91d-4e0a-b949-56b5841fdf5b",
   "metadata": {},
   "outputs": [],
   "source": []
  },
  {
   "cell_type": "code",
   "execution_count": null,
   "id": "e16502ab-85a0-4a66-bb77-079e8a916026",
   "metadata": {},
   "outputs": [],
   "source": []
  }
 ],
 "metadata": {
  "kernelspec": {
   "display_name": "Python 3 (ipykernel)",
   "language": "python",
   "name": "python3"
  },
  "language_info": {
   "codemirror_mode": {
    "name": "ipython",
    "version": 3
   },
   "file_extension": ".py",
   "mimetype": "text/x-python",
   "name": "python",
   "nbconvert_exporter": "python",
   "pygments_lexer": "ipython3",
   "version": "3.11.5"
  }
 },
 "nbformat": 4,
 "nbformat_minor": 5
}
